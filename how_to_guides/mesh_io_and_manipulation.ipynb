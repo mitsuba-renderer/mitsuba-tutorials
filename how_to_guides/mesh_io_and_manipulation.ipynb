{
 "cells": [
  {
   "cell_type": "markdown",
   "metadata": {
    "tags": []
   },
   "source": [
    "# Mesh I/O and manipulation"
   ]
  },
  {
   "cell_type": "code",
   "execution_count": 1,
   "metadata": {
    "nbsphinx": "hidden",
    "tags": []
   },
   "outputs": [],
   "source": [
    "import drjit as dr\n",
    "import mitsuba as mi\n",
    "\n",
    "mi.set_variant('llvm_ad_rgb')"
   ]
  },
  {
   "cell_type": "markdown",
   "metadata": {
    "tags": []
   },
   "source": [
    "## Reading a mesh from disk\n",
    "\n",
    "Mitsuba provides an abstract `Shape` class to handle all geometric shapes. For triangle meshes, it has a concrete class `Mesh` that is further extended by 3 plugins which can load meshes directly from a file:\n",
    "\n",
    "- [OBJ][1]: handles meshes containing triangles and quadrilaterals from Wavefront OBJ files\n",
    "- [PLY][2]: handles Stanford PLY format meshes (both the ASCII and binary format)\n",
    "- [Serialized][3]: Mitsuba 0.6 serialized mesh format.\n",
    "\n",
    "As any other Mitsuba object, we can use the `load_dict` function to instantiate one of these three plugins. They each have their own specific input parameters which you'll find in their respective documentation, but here are the input parameters they all share:\n",
    "\n",
    "- **filename**: filename of the mesh file that should be loaded\n",
    "- **face_normals**: when set to true, any existing or computed vertex normals are discarded and face normals will instead be used during rendering. This gives the rendered object a faceted appearance.\n",
    "- **to_world**: specifies an linear object-to-world transformation. \n",
    "\n",
    "Let's now load a mesh and start playing with it.\n",
    "\n",
    "[1]: https://mitsuba.readthedocs.io/en/latest/src/generated/plugins_shapes.html#wavefront-obj-mesh-loader-obj\n",
    "[2]: https://mitsuba.readthedocs.io/en/latest/src/generated/plugins_shapes.html#ply-stanford-triangle-format-mesh-loader-ply\n",
    "[3]: https://mitsuba.readthedocs.io/en/latest/src/generated/plugins_shapes.html#serialized-mesh-loader-serialized"
   ]
  },
  {
   "cell_type": "code",
   "execution_count": 2,
   "metadata": {},
   "outputs": [
    {
     "name": "stdout",
     "output_type": "stream",
     "text": [
      "PLYMesh[\n",
      "  name = \"bunny.ply\",\n",
      "  bbox = BoundingBox3f[\n",
      "    min = [-0.0785918, -0.0623055, -0.0730216],\n",
      "    max = [0.0868213, 0.0980685, 0.0476517]\n",
      "  ],\n",
      "  vertex_count = 208349,\n",
      "  vertices = [4.77 MiB of vertex data],\n",
      "  face_count = 69451,\n",
      "  faces = [814 KiB of face data],\n",
      "  face_normals = 0\n",
      "]\n"
     ]
    }
   ],
   "source": [
    "bunny = mi.load_dict({\n",
    "    'type': 'ply',\n",
    "    'filename': '../scenes/meshes/bunny.ply',\n",
    "    'face_normals': False,\n",
    "    'to_world': mi.ScalarTransform4f.rotate([0, 0, 1], angle=10),\n",
    "})\n",
    "\n",
    "print(bunny)"
   ]
  },
  {
   "cell_type": "markdown",
   "metadata": {},
   "source": [
    "The string representation of a `Mesh` object gives an overview of its size. If you wish to access some of these values, they are available through the following methods `Shape.bbox()`, `Mesh.vertex_count()`, `Mesh.face_count()`."
   ]
  },
  {
   "cell_type": "markdown",
   "metadata": {
    "tags": []
   },
   "source": [
    "## Procedural mesh \n",
    "\n",
    "By directly using the `Mesh` class, it is also possible to procedurally create a mesh. To illustrate this, we will build a spanning triangle disk and give it a wavy fringe. The exact details of how the vertex positions and face indices are generated are not important for the purposes of this guide. However, we do leave them as comments in the code."
   ]
  },
  {
   "cell_type": "code",
   "execution_count": 3,
   "metadata": {},
   "outputs": [],
   "source": [
    "# Wavy disk construction\n",
    "#\n",
    "# Let N define the total number of vertices, the first N-1 vertices will compose\n",
    "# the fringe of the disk, while the last vertex should be placed at the center.\n",
    "# The first N-1 vertices must have their height modified such that they oscillate\n",
    "# with some given frequency and amplitude. To compute the face indices, we define\n",
    "# the first vertex of every face to be the vertex at the center (idx=N-1) and the\n",
    "# other two can be assigned sequentially (modulo N-2).\n",
    "\n",
    "# Disk with a wavy fringe parameters\n",
    "N = 100\n",
    "frequency = 12.0\n",
    "amplitude = 0.4\n",
    "\n",
    "# Generate the vertex positions\n",
    "theta = dr.linspace(mi.Float, 0.0, dr.two_pi, N)\n",
    "x, y = dr.sincos(theta)\n",
    "z = amplitude * dr.sin(theta * frequency)\n",
    "vertex_pos = mi.Point3f(x, y, z)\n",
    "\n",
    "# Move the last vertex to the center\n",
    "vertex_pos[dr.eq(dr.arange(mi.UInt32, N), N - 1)] = 0.0\n",
    "\n",
    "# Generate the face indices\n",
    "idx = dr.arange(mi.UInt32, N - 1)\n",
    "face_indices = mi.Vector3u(N - 1, (idx + 1) % (N - 2), idx % (N - 2))"
   ]
  },
  {
   "cell_type": "markdown",
   "metadata": {},
   "source": [
    "The `Mesh` constructor allocates all the necessary buffers to hold its data. Specifically, the constructor takes as arguments the number of vertices and faces which will then be fixed. It is not possible to edit a mesh in a way that would require the buffers to be resized (more/less faces for examples), a new `Mesh` would need to be created for such use cases.\n",
    "The constructor can also takes two boolean arguments `has_vertex_normals` and `has_vertex_texcoords` that must also be know at the construction of the object, in order to allocate the appropriate buffers."
   ]
  },
  {
   "cell_type": "code",
   "execution_count": 4,
   "metadata": {},
   "outputs": [],
   "source": [
    "# Create an empty mesh (allocates buffers of the correct size)\n",
    "mesh = mi.Mesh(\n",
    "    'wavydisk',\n",
    "    vertex_count=N,\n",
    "    face_count=N - 1,\n",
    "    has_vertex_normals=False,\n",
    "    has_vertex_texcoords=False,\n",
    ")"
   ]
  },
  {
   "cell_type": "markdown",
   "metadata": {},
   "source": [
    "In order to assign our existing vertex positions and face indices to the newly created `Mesh` object we will use the `traverse()` mechanism. All of the allocated buffers of a `Mesh` object are exposed, and can therefore be modified with this mechanism. This approach has the advantage of simplifying some of the assignment operations. In addition, if any vertex position is modified, a call to `SceneParameters.update()` will trigger recomputation of both the bounding box and vertex normals.\n",
    "\n",
    "One caveat here is that meshes in Mitsuba store their data in **flat linear buffers**. Hence it is necessary to change the layout of the array of vertex positions and face indices computed above. Luckily, Dr.Jit provides `dr.ravel()` which does exactly that. The complement of this function is `dr.unravel()` which will convert a flat linear array to a structure-of-array of the specific type (e.g., `Point3f`)."
   ]
  },
  {
   "cell_type": "code",
   "execution_count": 5,
   "metadata": {},
   "outputs": [
    {
     "name": "stdout",
     "output_type": "stream",
     "text": [
      "[(Mesh[\n",
      "  name = \"wavydisk\",\n",
      "  bbox = BoundingBox3f[\n",
      "    min = [-0.999874, -0.999497, -0.399547],\n",
      "    max = [0.999874, 1, 0.399547]\n",
      "  ],\n",
      "  vertex_count = 100,\n",
      "  vertices = [1.17 KiB of vertex data],\n",
      "  face_count = 99,\n",
      "  faces = [1.16 KiB of face data],\n",
      "  face_normals = 0\n",
      "], {'faces', 'vertex_positions'})]\n"
     ]
    }
   ],
   "source": [
    "mesh_params = mi.traverse(mesh)\n",
    "mesh_params['vertex_positions'] = dr.ravel(vertex_pos)\n",
    "mesh_params['faces'] = dr.ravel(face_indices)\n",
    "print(mesh_params.update())"
   ]
  },
  {
   "cell_type": "markdown",
   "metadata": {},
   "source": [
    "And now let's take a look at our new mesh!"
   ]
  },
  {
   "cell_type": "code",
   "execution_count": 6,
   "metadata": {},
   "outputs": [
    {
     "data": {
      "image/png": "[encoded data removed]",
      "text/plain": [
       "<Figure size 432x288 with 1 Axes>"
      ]
     },
     "metadata": {
      "needs_background": "light"
     },
     "output_type": "display_data"
    }
   ],
   "source": [
    "scene = mi.load_dict({\n",
    "    'type': 'scene',\n",
    "    'integrator': {'type': 'path'},\n",
    "    'light': {'type': 'constant'},\n",
    "    'sensor': {\n",
    "        'type': 'perspective',\n",
    "        'to_world': mi.ScalarTransform4f.look_at(\n",
    "            origin=[0, -5, 5], target=[0, 0, 0], up=[0, 0, 1]\n",
    "        ),\n",
    "    },\n",
    "    'wavydisk': mesh,\n",
    "})\n",
    "\n",
    "img = mi.render(scene)\n",
    "\n",
    "from matplotlib import pyplot as plt\n",
    "\n",
    "plt.axis('off')\n",
    "plt.imshow(mi.util.convert_to_bitmap(img))"
   ]
  },
  {
   "cell_type": "markdown",
   "metadata": {
    "tags": []
   },
   "source": [
    "## Writing a mesh to disk\n",
    "\n",
    "No matter how a `Mesh` object was loaded or built, it can always be exported to a [PLY file format](https://en.wikipedia.org/wiki/PLY_(file_format)) using the `Mesh.write_ply()` method. No other file formats are currently supported.\n",
    "\n",
    "<div class=\"admonition important alert alert-block alert-info\">\n",
    "\n",
    "🗒 **Note**\n",
    "\n",
    "Any mesh attribute (see below) that is attached to the object at the time when `Mesh.write_ply()` is called will be written to output file as a property. Mitsuba therefore allows you to create complex procedural properties for your meshes and export them to be used in some other context entirely.\n",
    "</div>"
   ]
  },
  {
   "cell_type": "code",
   "execution_count": 7,
   "metadata": {},
   "outputs": [],
   "source": [
    "mesh.write_ply('wavydisk.ply')"
   ]
  },
  {
   "cell_type": "markdown",
   "metadata": {},
   "source": [
    "## Adding and editing attributes\n",
    "\n",
    "Meshes in Mitsuba can have additional attributes per face or per vertex. Each attribute is either one or several floating point numbers, no other types are supported.\n",
    "\n",
    "The `Mesh.add_attribute()` methods lets you define new attributes by giving them a name, a number of feilds, and their initial values. The attribute name must be prefixed with either `vertex_` or `face_`, as this defines whether the attribute is defined for each face or for each vertex. For this example, we will be adding a RGB color to each vertex. \n",
    "\n",
    "Moreover, Mitsuba 3 has a [mesh attribute][1] texture plugin that conviently allows you to visualize attributes.\n",
    "\n",
    "[1]: https://mitsuba.readthedocs.io/en/latest/src/generated/plugins_textures.html#mesh-attribute-texture-mesh-attribute"
   ]
  },
  {
   "cell_type": "code",
   "execution_count": 8,
   "metadata": {},
   "outputs": [],
   "source": [
    "mesh = mi.load_dict({\n",
    "    'type': 'ply',\n",
    "    'filename': 'wavydisk.ply',\n",
    "    'bsdf': {\n",
    "        'type': 'diffuse',\n",
    "        'reflectance': {\n",
    "            'type': 'mesh_attribute',\n",
    "            'name': 'vertex_color',  # This will be used to visualize our attribute\n",
    "        },\n",
    "    },\n",
    "})\n",
    "\n",
    "# Needs to start with vertex_ or face_\n",
    "attribute_size = mesh.vertex_count() * 3\n",
    "mesh.add_attribute(\n",
    "    'vertex_color', 3, [0] * attribute_size\n",
    ")  # Add 3 floats per vertex (initialized at 0)"
   ]
  },
  {
   "cell_type": "markdown",
   "metadata": {},
   "source": [
    "Once an attribute is created it can still be modified using the `traverse()` mechanism. As shown below, the attribute's buffer will be exposed with a key corresponding to the attribute's name."
   ]
  },
  {
   "cell_type": "code",
   "execution_count": 9,
   "metadata": {},
   "outputs": [
    {
     "data": {
      "text/plain": [
       "SceneParameters[\n",
       "  ----------------------------------------------------------------------------------------\n",
       "  Name                                 Flags    Type            Parent\n",
       "  ----------------------------------------------------------------------------------------\n",
       "  bsdf.reflectance.scale                        float           MeshAttribute\n",
       "  vertex_count                                  int             PLYMesh\n",
       "  face_count                                    int             PLYMesh\n",
       "  faces                                         UInt            PLYMesh\n",
       "  vertex_positions                     ∂, D     Float           PLYMesh\n",
       "  vertex_normals                       ∂, D     Float           PLYMesh\n",
       "  vertex_texcoords                     ∂        Float           PLYMesh\n",
       "  vertex_color                         ∂        Float           PLYMesh\n",
       "]"
      ]
     },
     "execution_count": 9,
     "metadata": {},
     "output_type": "execute_result"
    }
   ],
   "source": [
    "mesh_params = mi.traverse(mesh)\n",
    "mesh_params"
   ]
  },
  {
   "cell_type": "markdown",
   "metadata": {},
   "source": [
    "We can now easily change the values of the attribute using some simple Dr.Jit arithmetic."
   ]
  },
  {
   "cell_type": "code",
   "execution_count": 10,
   "metadata": {},
   "outputs": [
    {
     "data": {
      "text/plain": [
       "[(PLYMesh[\n",
       "    name = \"wavydisk.ply\",\n",
       "    bbox = BoundingBox3f[\n",
       "      min = [-0.999874, -0.999497, -0.399547],\n",
       "      max = [0.999874, 1, 0.399547]\n",
       "    ],\n",
       "    vertex_count = 100,\n",
       "    vertices = [3.52 KiB of vertex data],\n",
       "    face_count = 99,\n",
       "    faces = [1.16 KiB of face data],\n",
       "    face_normals = 0,\n",
       "    mesh attributes = [\n",
       "      vertex_color: 3 floats\n",
       "    ]\n",
       "  ],\n",
       "  {'vertex_color'})]"
      ]
     },
     "execution_count": 10,
     "metadata": {},
     "output_type": "execute_result"
    }
   ],
   "source": [
    "N = mesh.vertex_count()\n",
    "\n",
    "vertex_colors = dr.zeros(mi.Float, 3 * N)\n",
    "fringe_vertex_indices = dr.arange(mi.UInt, N - 1)\n",
    "dr.scatter(vertex_colors, 1, fringe_vertex_indices * 3)  # Fringe is red\n",
    "dr.scatter(vertex_colors, 1, [(N - 1) * 3 + 2])  # Center is blue\n",
    "\n",
    "mesh_params['vertex_color'] = vertex_colors\n",
    "mesh_params.update()"
   ]
  },
  {
   "cell_type": "markdown",
   "metadata": {},
   "source": [
    "And visualize the result!"
   ]
  },
  {
   "cell_type": "code",
   "execution_count": 11,
   "metadata": {},
   "outputs": [
    {
     "data": {
      "image/png": "[encoded data removed]",
      "text/plain": [
       "<Figure size 432x288 with 1 Axes>"
      ]
     },
     "metadata": {
      "needs_background": "light"
     },
     "output_type": "display_data"
    }
   ],
   "source": [
    "scene = mi.load_dict(\n",
    "    {\n",
    "        'type': 'scene',\n",
    "        'integrator': {'type': 'path'},\n",
    "        'light': {'type': 'constant'},\n",
    "        'sensor': {\n",
    "            'type': 'perspective',\n",
    "            'to_world': mi.ScalarTransform4f.look_at(\n",
    "                origin=[0, -5, 5], target=[0, 0, 0], up=[0, 0, 1]\n",
    "            ),\n",
    "        },\n",
    "        'wavydisk': mesh,\n",
    "    }\n",
    ")\n",
    "\n",
    "img = mi.render(scene)\n",
    "\n",
    "plt.axis('off')\n",
    "plt.imshow(mi.util.convert_to_bitmap(img))"
   ]
  }
 ],
 "metadata": {
  "file_extension": ".py",
  "interpreter": {
   "hash": "31f2aee4e71d21fbe5cf8b01ff0e069b9275f58929596ceb00d14d90e3e16cd6"
  },
  "kernelspec": {
   "display_name": "Python 3 (ipykernel)",
   "language": "python",
   "name": "python3"
  },
  "language_info": {
   "codemirror_mode": {
    "name": "ipython",
    "version": 3
   },
   "file_extension": ".py",
   "mimetype": "text/x-python",
   "name": "python",
   "nbconvert_exporter": "python",
   "pygments_lexer": "ipython3",
   "version": "3.9.13"
  },
  "metadata": {
   "interpreter": {
    "hash": "31f2aee4e71d21fbe5cf8b01ff0e069b9275f58929596ceb00d14d90e3e16cd6"
   }
  },
  "mimetype": "text/x-python",
  "name": "python",
  "npconvert_exporter": "python",
  "pygments_lexer": "ipython3",
  "version": 3
 },
 "nbformat": 4,
 "nbformat_minor": 4
}
