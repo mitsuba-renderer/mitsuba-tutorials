{
 "cells": [
  {
   "cell_type": "markdown",
   "metadata": {
    "tags": []
   },
   "source": [
    "# Deep dive into a BSDF"
   ]
  },
  {
   "cell_type": "markdown",
   "metadata": {},
   "source": [
    "## Overview\n",
    "\n",
    "As you have probably already discovered, Mitsuba 3 can do much more than rendering. In this tutorial we will show how to instantiate a BSDF plugin using Python dictionaries and plot its distribution function using `matplotlib`.\n",
    "\n",
    "<div class=\"admonition important alert alert-block alert-success\">\n",
    "\n",
    "🚀 **You will learn how to:**\n",
    "\n",
    "<ul>\n",
    "  <li>Instanciate Mitsuba objects using Python dict and mitsuba.load_dict</li>\n",
    "  <li>Perform vectorized computations using a JIT variant of Mitsuba</li>\n",
    "</ul>\n",
    "    \n",
    "</div>\n"
   ]
  },
  {
   "cell_type": "markdown",
   "metadata": {},
   "source": [
    "## Setup\n",
    "\n",
    "Of course, let's start with the usual Python imports! As emphasized in previous tutorials, Mitsuba requires a specific variant to be set before performing any other imports or computations. For this tutorial, we are going to use one of the JIT vectorized variant of the system. This will allow us to write code as if it was operating on normal scalar values, and have it run on arbitrary-sized arrays of values on the CPU or GPU."
   ]
  },
  {
   "cell_type": "code",
   "execution_count": 1,
   "metadata": {},
   "outputs": [],
   "source": [
    "import drjit as dr\n",
    "import mitsuba as mi\n",
    "\n",
    "mi.set_variant('llvm_ad_rgb')"
   ]
  },
  {
   "cell_type": "markdown",
   "metadata": {},
   "source": [
    "## Instantiating a BSDF\n",
    "\n",
    "One easy way to instanciate Mitsuba objects (e.g., [<code>Shape</code>][1], [<code>BSDF</code>][2], ...) is using the [<code>load_dict</code>][3] function. This function takes as input a Python `dict` following a similar structure to the XML scene description and instantiates the corresponding plugin. You can learn more about the specific format of this `dict` by reading the dedicated section in the [documentation][4].\n",
    "\n",
    "In this scenario, we want to construct a [roughconductor BSDF][5] with a high roughness value and a GGX microfacet distribution.\n",
    "\n",
    "[1]: https://mitsuba.readthedocs.io/en/latest/src/generated/plugins_shapes.html\n",
    "[2]: https://mitsuba.readthedocs.io/en/latest/src/generated/plugins_bsdfs.html\n",
    "[3]: https://mitsuba.readthedocs.io/en/latest/src/api_reference.html#mitsuba.load_dict\n",
    "[4]: https://mitsuba.readthedocs.io/en/latest/src/key_topics/scene_format.html#scene-python-dict-format\n",
    "[5]: https://mitsuba.readthedocs.io/en/latest/src/generated/plugins_bsdfs.html#rough-conductor-material-roughconductor"
   ]
  },
  {
   "cell_type": "code",
   "execution_count": 2,
   "metadata": {},
   "outputs": [],
   "source": [
    "bsdf = mi.load_dict({\n",
    "    'type': 'roughconductor',\n",
    "    'alpha': 0.2,\n",
    "    'distribution': 'ggx'\n",
    "})"
   ]
  },
  {
   "cell_type": "markdown",
   "metadata": {},
   "source": [
    "## Vectorized evaluation of the BSDF\n",
    "\n",
    "We will now evaluate this BSDF for a whole array of directions at once, leveraging the enabled vectorize backend. Similarly to working on `numpy` arrays, we use DrJit routines to perform array-based arithmetics.\n",
    "\n",
    "For instance, here we start by defining a function to map from spherical and Euclidean coordinates."
   ]
  },
  {
   "cell_type": "code",
   "execution_count": 3,
   "metadata": {},
   "outputs": [],
   "source": [
    "def sph_to_dir(theta, phi):\n",
    "    \"\"\"Map spherical to Euclidean coordinates\"\"\"\n",
    "    st, ct = dr.sincos(theta)\n",
    "    sp, cp = dr.sincos(phi)\n",
    "    return mi.Vector3f(cp * st, sp * st, ct)"
   ]
  },
  {
   "cell_type": "markdown",
   "metadata": {},
   "source": [
    "We can then use this function to generate a set of directions to evaluate the BSDF with."
   ]
  },
  {
   "cell_type": "code",
   "execution_count": 4,
   "metadata": {},
   "outputs": [],
   "source": [
    "# Create a (dummy) surface interaction to use for the evaluation of the BSDF\n",
    "si = dr.zeros(mi.SurfaceInteraction3f)\n",
    "\n",
    "# Specify an incident direction with 45 degrees elevation\n",
    "si.wi = sph_to_dir(dr.deg2rad(45.0), 0.0)\n",
    "\n",
    "# Create grid in spherical coordinates and map it onto the sphere\n",
    "res = 300\n",
    "theta_o, phi_o = dr.meshgrid(\n",
    "    dr.linspace(mi.Float, 0,     dr.pi,     res),\n",
    "    dr.linspace(mi.Float, 0, 2 * dr.pi, 2 * res)\n",
    ")\n",
    "wo = sph_to_dir(theta_o, phi_o)\n",
    "\n",
    "# Evaluate the whole array (18000 directions) at once\n",
    "values = bsdf.eval(mi.BSDFContext(), si, wo)"
   ]
  },
  {
   "cell_type": "markdown",
   "metadata": {},
   "source": [
    "## Plotting the results\n",
    "\n",
    "Dr.Jit arrays of any flavour can easily be converted to an array type of other mainstream libraries, such as `numpy`, `PyTorch`, `JAX` and `TensorFlow`. For more detailed information on this, take a look at the extensive [drjit documentation][1].\n",
    "In our case we are going to convert our drjit array to a numpy array.\n",
    "\n",
    "[1]: https://drjit.readthedocs.io/en/master/"
   ]
  },
  {
   "cell_type": "code",
   "execution_count": 5,
   "metadata": {},
   "outputs": [],
   "source": [
    "import numpy as np\n",
    "values_np = np.array(values)"
   ]
  },
  {
   "cell_type": "markdown",
   "metadata": {},
   "source": [
    "We can now use our favourite plotting library to visualize the BSDF distribution (here we use `matplotlib`)."
   ]
  },
  {
   "cell_type": "code",
   "execution_count": 6,
   "metadata": {
    "nbsphinx-thumbnail": {},
    "tags": []
   },
   "outputs": [
    {
     "data": {
      "image/png": "[encoded data removed]",
      "text/plain": [
       "<Figure size 576x288 with 1 Axes>"
      ]
     },
     "metadata": {
      "needs_background": "light"
     },
     "output_type": "display_data"
    }
   ],
   "source": [
    "import matplotlib.pyplot as plt\n",
    "\n",
    "# Extract red channel of BRDF values and reshape into 2D grid\n",
    "values_r = values_np[:, 0]\n",
    "values_r = values_r.reshape(2 * res, res).T\n",
    "\n",
    "# Plot values for spherical coordinates\n",
    "fig, ax = plt.subplots(figsize=(8, 4))\n",
    "\n",
    "im = ax.imshow(values_r, extent=[0, 2 * np.pi, np.pi, 0], cmap='jet')\n",
    "\n",
    "ax.set_xlabel(r'$\\phi_o$', size=10)\n",
    "ax.set_xticks([0, dr.pi, dr.two_pi])\n",
    "ax.set_xticklabels(['0', '$\\\\pi$', '$2\\\\pi$'])\n",
    "ax.set_ylabel(r'$\\theta_o$', size=10)\n",
    "ax.set_yticks([0, dr.pi / 2, dr.pi])\n",
    "ax.set_yticklabels(['0', '$\\\\pi/2$', '$\\\\pi$'])"
   ]
  },
  {
   "cell_type": "markdown",
   "metadata": {
    "tags": []
   },
   "source": [
    "## See also\n",
    "\n",
    "- [<code>mitsuba.load_dict()</code>][1]\n",
    "- [<code>mitsuba.BSDF.eval()</code>][2]\n",
    "\n",
    "[1]: https://mitsuba.readthedocs.io/en/latest/src/api_reference.html#mitsuba.load_dict\n",
    "[2]: https://mitsuba.readthedocs.io/en/latest/src/api_reference.html#mitsuba.BSDF.eval"
   ]
  }
 ],
 "metadata": {
  "file_extension": ".py",
  "kernelspec": {
   "display_name": "Python 3 (ipykernel)",
   "language": "python",
   "name": "python3"
  },
  "language_info": {
   "codemirror_mode": {
    "name": "ipython",
    "version": 3
   },
   "file_extension": ".py",
   "mimetype": "text/x-python",
   "name": "python",
   "nbconvert_exporter": "python",
   "pygments_lexer": "ipython3",
   "version": "3.9.12"
  },
  "metadata": {
   "interpreter": {
    "hash": "31f2aee4e71d21fbe5cf8b01ff0e069b9275f58929596ceb00d14d90e3e16cd6"
   }
  },
  "mimetype": "text/x-python",
  "name": "python",
  "npconvert_exporter": "python",
  "pygments_lexer": "ipython3",
  "version": 3
 },
 "nbformat": 4,
 "nbformat_minor": 4
}
