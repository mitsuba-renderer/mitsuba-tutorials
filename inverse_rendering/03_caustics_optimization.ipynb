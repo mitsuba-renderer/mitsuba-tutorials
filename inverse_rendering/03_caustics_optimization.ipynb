{
 "cells": [
  {
   "cell_type": "markdown",
   "metadata": {},
   "source": [
    "# 3. Caustics optimization"
   ]
  },
  {
   "cell_type": "markdown",
   "metadata": {},
   "source": [
    "## Overview"
   ]
  },
  {
   "cell_type": "markdown",
   "metadata": {},
   "source": [
    "This tutorial contains an advanced inverse rendering example: recover the surface displacement (heightmap)\n",
    "of a slab of glass such that light passing through it focuses into a specific desired image.\n",
    "\n",
    "This reproduces the results showcased in Section 4.3 of [Mitsuba 2: A Retargetable Forward and Inverse Renderer](https://rgl.epfl.ch/publications/NimierDavidVicini2019Mitsuba2).\n",
    "\n",
    "\n",
    "<div class=\"alert alert-block alert-info\">\n",
    "\n",
    "✔️ **What will you learn?**\n",
    "\n",
    "- Creating a simple mesh from Python\n",
    "- Loading a scene define procedurally from Python\n",
    "- Applying a heightmap to a mesh from Python\n",
    "- Optimizing \"latent\" variables, i.e. variables which are not directly defined as part of the scene but affect it\n",
    "\n",
    "\n",
    "</div>"
   ]
  },
  {
   "cell_type": "markdown",
   "metadata": {},
   "source": [
    "The scene will be setup as follows:\n",
    "\n",
    "1. A directional area light (white or colorful, depending on the target image)\n",
    "2. Light from the emitter passes through a glass slab. We will optimize the slab's surface (via a heightmap)...\n",
    "3. ...so that light is focused on a receiving plane in a way that reproduces a desired target image.\n",
    "\n",
    "In order to efficiently render and optimize this scene, we will use the Particle Tracer integrator (`ptracer`), which traces rays from the emitter rather than the sensor.\n",
    "\n",
    "<img alt=\"Caustic Optimization diagram\" src=\"data:image/svg+xml;base64,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\" width=\"50%\" />"
   ]
  },
  {
   "cell_type": "markdown",
   "metadata": {},
   "source": [
    "## Step 1 - setup"
   ]
  },
  {
   "cell_type": "markdown",
   "metadata": {},
   "source": [
    "We start by importing Mitsuba and selecting an appropriate variant supporting automatic differentiation (AD). AD support is required to compute gradients with respect to the slab's surface."
   ]
  },
  {
   "cell_type": "code",
   "execution_count": null,
   "metadata": {},
   "outputs": [],
   "source": [
    "import sys\n",
    "# If `setpath.sh` has not been sourced before starting the notebook server,\n",
    "# you can manually add the path to Mitsuba's build directory here.\n",
    "mts_py_path = '../../../build/python'\n",
    "if mts_py_path not in sys.path:\n",
    "    sys.path.append(mts_py_path)\n",
    "        \n",
    "import os\n",
    "from os.path import join, realpath, dirname\n",
    "import time\n",
    "import numpy as np\n",
    "\n",
    "try:\n",
    "    import enoki as ek\n",
    "    import mitsuba\n",
    "except ImportError as e:\n",
    "    print('Could not import Enoki and Mitsuba, have you sourced `setpath`?', file=sys.stderr)\n",
    "    raise e"
   ]
  },
  {
   "cell_type": "markdown",
   "metadata": {},
   "source": [
    "In order to use automatic differentiation, we need to enable a variant that supports it. Those are the ones containing `_ad` after the backend description. E.g. `cuda_ad_rgb`, `llvm_ad_rgb`, ... "
   ]
  },
  {
   "cell_type": "code",
   "execution_count": null,
   "metadata": {},
   "outputs": [],
   "source": [
    "desired_variants = ['cuda_ad_rgb', 'llvm_ad_rgb']\n",
    "for v in desired_variants:\n",
    "    if v in mitsuba.variants():\n",
    "        mitsuba.set_variant(v)\n",
    "        break\n",
    "else:\n",
    "    raise RuntimeError('Must enable at least one of the following variants: ' + str(desired_variants))\n",
    "\n",
    "# AD mode: do not use symbolic recording.\n",
    "ek.set_flag(ek.JitFlag.LoopRecord, False)\n",
    "ek.set_flag(ek.JitFlag.VCallRecord, False)"
   ]
  },
  {
   "cell_type": "markdown",
   "metadata": {},
   "source": [
    "## Step 2 - choosing a configuration"
   ]
  },
  {
   "cell_type": "markdown",
   "metadata": {},
   "source": [
    "In this tutorial, we can attempt to reproduce either a grayscale image using a uniform emitter, or a color image using an RGB emitter. Here, we define those two options and select one.\n",
    "\n",
    "Feel free to define additional configurations, e.g. to target a different reference image of your choice."
   ]
  },
  {
   "cell_type": "code",
   "execution_count": null,
   "metadata": {},
   "outputs": [],
   "source": [
    "SCENE_DIR = realpath('../scenes')\n",
    "COMMON_OPTIONS = {\n",
    "    'render_resolution': (512, 512),\n",
    "    'heightmap_resolution': (512, 512),\n",
    "    'spp': 32,\n",
    "    'max_iterations': 500,\n",
    "    'learning_rate': 2e-5,\n",
    "}\n",
    "CONFIGS = {\n",
    "    'wave': dict(**{\n",
    "        'emitter': 'gray',\n",
    "        'reference': join(SCENE_DIR, 'references/wave-1024.jpg'),\n",
    "    }, **COMMON_OPTIONS),\n",
    "    'sunday': dict(**{\n",
    "        'emitter': 'bayer',\n",
    "        'reference': join(SCENE_DIR, 'references/sunday-512.jpg'),\n",
    "    }, **COMMON_OPTIONS),\n",
    "}\n",
    "\n",
    "# Pick one of the available configs\n",
    "config_name = 'sunday'  # 'wave'\n",
    "config = CONFIGS[config_name]\n",
    "print('[i] Reference image selected:', config['reference'])\n",
    "\n",
    "output_dir = realpath(join('.', 'outputs', config_name))\n",
    "os.makedirs(output_dir, exist_ok=True)\n",
    "print('[i] Results will be saved to:', output_dir)"
   ]
  },
  {
   "cell_type": "markdown",
   "metadata": {},
   "source": [
    "## Step 3 - creating the scene"
   ]
  },
  {
   "cell_type": "markdown",
   "metadata": {},
   "source": [
    "Depending on the chosen configuration, a different type of emitter will need to be used. For this reason, we define the scene dynamically directly from Python as a dictionary and load it with `mitsuba.core.xml.load_dict()`."
   ]
  },
  {
   "cell_type": "code",
   "execution_count": null,
   "metadata": {},
   "outputs": [],
   "source": [
    "from mitsuba.core import ScalarTransform4f, Thread, Bitmap\n",
    "from mitsuba.core.xml import load_dict\n",
    "\n",
    "# Make sure that resources from the scene directory can be found\n",
    "fr = Thread.thread().file_resolver()\n",
    "fr.append(SCENE_DIR)"
   ]
  },
  {
   "cell_type": "markdown",
   "metadata": {},
   "source": [
    "### Creating the lens mesh"
   ]
  },
  {
   "cell_type": "markdown",
   "metadata": {},
   "source": [
    "The goal of the optimization is to recover the heightfield that needs to be applied to a slab of glass so that it focuses light in just the right way to reproduce the desired target image.\n",
    "\n",
    "The heightmap will be represented as a texture and applied to the slab's vertices. For this technique to be effective, the slab must have enough geometric resolution (vertices) to match the heightmap texture.\n",
    "\n",
    "Here, we generate the appropriate mesh directly from Python: a simple tesselated plane with the desired resolution and save it to disk."
   ]
  },
  {
   "cell_type": "code",
   "execution_count": null,
   "metadata": {},
   "outputs": [],
   "source": [
    "def create_flat_lens_mesh(resolution):\n",
    "    from mitsuba.core import Float, UInt32, Vector2f, Vector3f\n",
    "    from mitsuba.render import Mesh\n",
    "\n",
    "    assert resolution[0] == resolution[1], 'Not supported yet: non-square lens mesh resolution'\n",
    "    U, V = ek.meshgrid(\n",
    "        ek.linspace(Float, 0, 1, resolution[0]),\n",
    "        ek.linspace(Float, 0, 1, resolution[1]),\n",
    "        indexing='ij'\n",
    "    )\n",
    "    X = 2 * (U - 0.5)\n",
    "    Y = 2 * (V - 0.5)\n",
    "\n",
    "    n_vertices = resolution[0] * resolution[1]\n",
    "    vertices = Vector3f(X, Y, ek.zero(Float, n_vertices))\n",
    "    texcoords = Vector2f(U, V)\n",
    "\n",
    "    # Create two triangles per grid cell\n",
    "    faces = []\n",
    "    for i in range(resolution[0] - 1):\n",
    "        for j in range(resolution[1] - 1):\n",
    "            v00 = i * resolution[1] + j\n",
    "            v01 = v00 + 1\n",
    "            v10 = (i + 1) * resolution[1] + j\n",
    "            v11 = v10 + 1\n",
    "\n",
    "            faces.append((v00, v10, v01))\n",
    "            faces.append((v01, v10, v11))\n",
    "    n_faces = len(faces)\n",
    "    faces = np.array(faces).astype(np.uint32)\n",
    "    assert faces.shape == (n_faces, 3)\n",
    "\n",
    "    m = Mesh(\"lens-mesh\", n_vertices, n_faces, has_vertex_texcoords=True)\n",
    "    ek.scatter(\n",
    "        m.vertex_positions_buffer(), ek.ravel(vertices),\n",
    "        ek.arange(UInt32, n_vertices * 3)\n",
    "    )\n",
    "    ek.scatter(\n",
    "        m.faces_buffer(), UInt32(faces.ravel()),\n",
    "        ek.arange(UInt32, n_faces * 3)\n",
    "    )\n",
    "    ek.scatter(\n",
    "        m.vertex_texcoords_buffer(), ek.ravel(texcoords),\n",
    "        ek.arange(UInt32, n_vertices * 2)\n",
    "    )\n",
    "    ek.eval()\n",
    "    m.parameters_changed()\n",
    "\n",
    "    return m"
   ]
  },
  {
   "cell_type": "code",
   "execution_count": null,
   "metadata": {},
   "outputs": [],
   "source": [
    "lens_res = config.get('lens_res', config['heightmap_resolution'])\n",
    "lens_fname = join(output_dir, 'lens_{}_{}.ply'.format(*lens_res))\n",
    "if not os.path.isfile(lens_fname):\n",
    "    m = create_flat_lens_mesh(lens_res)\n",
    "    m.write_ply(lens_fname)\n",
    "    print('[+] Wrote lens mesh ({}x{} tesselation) file to: {}'.format(*lens_res, lens_fname))"
   ]
  },
  {
   "cell_type": "markdown",
   "metadata": {},
   "source": [
    "### Creating the appropriate emitter"
   ]
  },
  {
   "cell_type": "markdown",
   "metadata": {},
   "source": [
    "As explained previously, depending on whether we are trying to reproduce a grayscale or colorful target image, we setup the emitter to either emit constant white light or an RGB Bayer pattern.\n",
    "In the latter case, the pattern is generated on-the-fly and passed to the emitter as an in-memory `Bitmap` texture."
   ]
  },
  {
   "cell_type": "code",
   "execution_count": null,
   "metadata": {},
   "outputs": [],
   "source": [
    "emitter = None\n",
    "if config['emitter'] == 'gray':\n",
    "    emitter = {\n",
    "        'type':'directionalarea',\n",
    "        'radiance': {'type': 'spectrum', 'value': 0.8},\n",
    "    }\n",
    "elif config['emitter'] == 'bayer':\n",
    "    bayer = np.zeros(shape=(32, 32, 3))\n",
    "    bayer[::2, ::2, 2] = 2.2\n",
    "    bayer[::2, 1::2, 1] = 2.2\n",
    "    # bayer[1::2, ::2, 1] = 1  # Avoid too much green\n",
    "    bayer[1::2, 1::2, 0] = 2.2\n",
    "\n",
    "    bayer = Bitmap(bayer.astype(np.float32), pixel_format=Bitmap.PixelFormat.RGB)\n",
    "    # bayer.write('emitter.exr')\n",
    "    emitter = {\n",
    "        'type':'directionalarea',\n",
    "        'radiance': {\n",
    "            'type': 'bitmap',\n",
    "            'bitmap': bayer,\n",
    "            'raw': True,\n",
    "            'filter_type': 'nearest'\n",
    "        },\n",
    "    }"
   ]
  },
  {
   "cell_type": "markdown",
   "metadata": {},
   "source": [
    "### Creating the rest of the scene"
   ]
  },
  {
   "cell_type": "markdown",
   "metadata": {},
   "source": [
    "The sensor looks directly at the receiving plane where the caustic will be formed. The light source and optimized lens will stand behind the camera.\n",
    "Note that since the camera is an idealized pinhole camera and does not occupy any space, it will not cast any shadow on the receiving plane."
   ]
  },
  {
   "cell_type": "code",
   "execution_count": null,
   "metadata": {},
   "outputs": [],
   "source": [
    "# Looking at the receiving plane, not looking through the lens\n",
    "sensor_to_world = ScalarTransform4f.look_at(\n",
    "    target=(0, -20, 0),\n",
    "    origin=(0, -4.65, 0),\n",
    "    up=(0, 0, 1)\n",
    ")\n",
    "resx, resy = config['render_resolution']\n",
    "sensor = {\n",
    "    'type': 'perspective',\n",
    "    'near_clip': 1,\n",
    "    'far_clip': 1000,\n",
    "    'fov': 45,\n",
    "    'to_world': sensor_to_world,\n",
    "\n",
    "    'sampler': {\n",
    "        'type': 'independent',\n",
    "        'sample_count': 512  # Not really used\n",
    "    },\n",
    "    'film': {\n",
    "        'type': 'hdrfilm',\n",
    "        'width': resx,\n",
    "        'height': resy,\n",
    "        'pixel_format': 'rgb',\n",
    "        'rfilter': {\n",
    "            # Important: smooth reconstruction filter with a footprint larger than 1 pixel.\n",
    "            'type': 'gaussian'\n",
    "        }\n",
    "    },\n",
    "}"
   ]
  },
  {
   "cell_type": "markdown",
   "metadata": {},
   "source": [
    "The chosen light source emits light in a single direction, which would be very difficult (or impossible) to sample correctly with a standard path tracer. For this reason, we use a particle tracer (`ptracer`), which starts rays from the emitters rather than the sensor."
   ]
  },
  {
   "cell_type": "code",
   "execution_count": null,
   "metadata": {},
   "outputs": [],
   "source": [
    "integrator = {\n",
    "    'type': 'ptracer',\n",
    "    'samples_per_pass': 256,\n",
    "    'max_depth': 4,\n",
    "    'hide_emitters': False,\n",
    "}"
   ]
  },
  {
   "cell_type": "markdown",
   "metadata": {},
   "source": [
    "We can now put everything together into a single large dictionary, where we also define the remaining geometry (receiving plane, geometry, etc)."
   ]
  },
  {
   "cell_type": "code",
   "execution_count": null,
   "metadata": {},
   "outputs": [],
   "source": [
    "scene = {\n",
    "    'type': 'scene',\n",
    "    'sensor': sensor,\n",
    "    'integrator': integrator,\n",
    "    # Glass BSDF\n",
    "    'simple-glass': {\n",
    "        'type': 'dielectric',\n",
    "        'id': 'simple-glass-bsdf',\n",
    "        'ext_ior': 'air',\n",
    "        'int_ior': 1.5,\n",
    "        'specular_reflectance': { 'type': 'spectrum', 'value': 0 },\n",
    "    },\n",
    "    'white-bsdf': {\n",
    "        'type': 'diffuse',\n",
    "        'id': 'white-bsdf',\n",
    "        'reflectance': { 'type': 'rgb', 'value': (1, 1, 1) },\n",
    "    },\n",
    "    'black-bsdf': {\n",
    "        'type': 'diffuse',\n",
    "        'id': 'black-bsdf',\n",
    "        'reflectance': { 'type': 'spectrum', 'value': 0 },\n",
    "    },\n",
    "\n",
    "    # Receiving plane\n",
    "    'receiving-plane': {\n",
    "        'type': 'obj',\n",
    "        'id': 'receiving-plane',\n",
    "        'filename': 'meshes/rectangle.obj',\n",
    "        'to_world': \\\n",
    "            ScalarTransform4f.look_at(\n",
    "                target=(0, 1, 0),\n",
    "                origin=(0, -7, 0),\n",
    "                up=(0, 0, 1)\n",
    "            ) \\\n",
    "            * ScalarTransform4f.scale((5, 5, 5)),\n",
    "        'bsdf': {'type': 'ref', 'id': 'white-bsdf'},\n",
    "    },\n",
    "    # Glass slab, excluding the 'exit' face (added separately below)\n",
    "    'slab': {\n",
    "        'type': 'obj',\n",
    "        'id': 'slab',\n",
    "        'filename': 'meshes/slab.obj',\n",
    "        'to_world': ScalarTransform4f.rotate(axis=(1, 0, 0), angle=90),\n",
    "        'bsdf': {'type': 'ref', 'id': 'simple-glass'},\n",
    "    },\n",
    "    # Glass rectangle, to be optimized\n",
    "    'lens': {\n",
    "        'type': 'ply',\n",
    "        'id': 'lens',\n",
    "        'filename': lens_fname,\n",
    "        'to_world': ScalarTransform4f.rotate(axis=(1, 0, 0), angle=90),\n",
    "        'bsdf': {'type': 'ref', 'id': 'simple-glass'},\n",
    "    },\n",
    "\n",
    "    # Directional area emitter placed behind the glass slab\n",
    "    'focused-emitter-shape': {\n",
    "        'type': 'obj',\n",
    "        'filename': 'meshes/rectangle.obj',\n",
    "        'to_world': ScalarTransform4f.look_at(\n",
    "            target=(0, 0, 0),\n",
    "            origin=(0, 5, 0),\n",
    "            up=(0, 0, 1)\n",
    "        ),\n",
    "        'bsdf': {'type': 'ref', 'id': 'black-bsdf'},\n",
    "        'focused-emitter': emitter,\n",
    "    },\n",
    "}"
   ]
  },
  {
   "cell_type": "markdown",
   "metadata": {},
   "source": [
    "Finally, the scene is loaded which instantiates all of the appropriate plugins, loads the geometry, etc."
   ]
  },
  {
   "cell_type": "code",
   "execution_count": null,
   "metadata": {},
   "outputs": [],
   "source": [
    "scene = load_dict(scene)"
   ]
  },
  {
   "cell_type": "markdown",
   "metadata": {},
   "source": [
    "## Step 4 - loading the reference image"
   ]
  },
  {
   "cell_type": "markdown",
   "metadata": {},
   "source": [
    "Now that the sensor has been defined, we can load the reference image and ensure that its resolution matches the render resolution."
   ]
  },
  {
   "cell_type": "code",
   "execution_count": null,
   "metadata": {},
   "outputs": [],
   "source": [
    "def load_ref_image(config, resolution, output_dir):\n",
    "    from mitsuba.core import Bitmap, Float\n",
    "    from mitsuba.python.util import write_bitmap\n",
    "\n",
    "    b = Bitmap(config['reference'])\n",
    "    b = b.convert(Bitmap.PixelFormat.RGB, Bitmap.Float32, False)\n",
    "    if b.size() != resolution:\n",
    "        b = b.resample(resolution)\n",
    "\n",
    "    image_ref = np.array(b)\n",
    "    write_bitmap(join(output_dir, 'out_ref.exr'), image_ref, resolution)\n",
    "    \n",
    "    print('[i] Loaded reference image from:', config['reference'])\n",
    "    return Float(image_ref.ravel())\n",
    "\n",
    "# Make sure the reference image will have a resolution matching the sensor\n",
    "sensor = scene.sensors()[0]\n",
    "crop_size = sensor.film().crop_size()\n",
    "image_ref = load_ref_image(config, crop_size, output_dir=output_dir)\n",
    "ref_scale = ek.hmean(image_ref)"
   ]
  },
  {
   "cell_type": "markdown",
   "metadata": {},
   "source": [
    "## Step 5 - creating the displacement texture"
   ]
  },
  {
   "cell_type": "markdown",
   "metadata": {},
   "source": [
    "Rather than optimizing the unconstrained vertex positions of the lens directly, we optimize values of a high-resolution heightmap. Here, we create the heightmap texture and create an optimizer that will work on its values.\n",
    "\n",
    "Notice how the `traverse` method is used directly on our new texture object, rather than on the scene loaded earlier."
   ]
  },
  {
   "cell_type": "code",
   "execution_count": null,
   "metadata": {},
   "outputs": [],
   "source": [
    "from mitsuba.core import Vector3f\n",
    "from mitsuba.core.xml import load_dict\n",
    "from mitsuba.render import SurfaceInteraction3f\n",
    "from mitsuba.python.util import traverse\n",
    "from mitsuba.python.ad.optimizers import Adam"
   ]
  },
  {
   "cell_type": "code",
   "execution_count": null,
   "metadata": {},
   "outputs": [],
   "source": [
    "heightmap_texture = load_dict({\n",
    "    'type': 'bitmap',\n",
    "    'id': 'heightmap_texture',\n",
    "    'bitmap': Bitmap(np.zeros(config['heightmap_resolution'], dtype=np.float32)),\n",
    "    'raw': True,\n",
    "}).expand()[0]\n",
    "\n",
    "# Actually optimized: the heightmap texture\n",
    "params = traverse(heightmap_texture)\n",
    "params.keep(['data'])\n",
    "opt = Adam(lr=config['learning_rate'], params=params)\n",
    "opt.load()"
   ]
  },
  {
   "cell_type": "markdown",
   "metadata": {},
   "source": [
    "At each iteration, the lens' vertices will displaced from their original position along their normal by the value of the heightmap.\n",
    "Don't forget that the geometric resolution of the lens mesh (number of vertices) must also be high enough for this technique to work as expected."
   ]
  },
  {
   "cell_type": "code",
   "execution_count": null,
   "metadata": {},
   "outputs": [],
   "source": [
    "params_scene = traverse(scene)\n",
    "# We will always apply displacements along the original normals and\n",
    "# starting from the original positions.\n",
    "positions_initial = ek.unravel(Vector3f, params_scene['lens.vertex_positions'])\n",
    "normals_initial = ek.unravel(Vector3f, params_scene['lens.vertex_normals'])\n",
    "lens_si = ek.zero(SurfaceInteraction3f, ek.width(positions_initial))\n",
    "lens_si.uv = ek.unravel(type(lens_si.uv), params_scene['lens.vertex_texcoords'])\n",
    "\n",
    "\n",
    "def apply_displacement(amplitude = 1.):\n",
    "    # Enforce reasonable range. For reference, the receiving plane\n",
    "    # is 7 scene units away from the lens.\n",
    "    vmax = 1 / 100.\n",
    "    params['data'] = ek.clamp(params['data'], -vmax, vmax)\n",
    "    ek.enable_grad(params['data'])\n",
    "\n",
    "    new_positions = (heightmap_texture.eval_1(lens_si) * normals_initial * amplitude\n",
    "                        + positions_initial)\n",
    "    params_scene['lens.vertex_positions'] = ek.ravel(new_positions)\n",
    "    params_scene.update()"
   ]
  },
  {
   "cell_type": "markdown",
   "metadata": {},
   "source": [
    "## Step 6 - running the optimization"
   ]
  },
  {
   "cell_type": "markdown",
   "metadata": {},
   "source": [
    "We're finally ready to start the optimization itself!\n",
    "\n",
    "At each iteration, we apply the current heightmap displacement to the lens surface and render the scene with automatic differentiation enabled.\n",
    "\n",
    "We then compare the render to our target image with a scale-independent L2 loss.\n",
    "We divide out the average brightness in the loss so that the general brightness of the emitter (set arbitrarily) does not interfere with the optimization.\n",
    "\n",
    "After backpropagating through the computation graph, we use the gradients of the loss w.r.t. the heightmap values to update the heightmap."
   ]
  },
  {
   "cell_type": "code",
   "execution_count": null,
   "metadata": {},
   "outputs": [],
   "source": [
    "from mitsuba.core import Bitmap, Thread, LogLevel\n",
    "from mitsuba.python.util import write_bitmap"
   ]
  },
  {
   "cell_type": "code",
   "execution_count": null,
   "metadata": {},
   "outputs": [],
   "source": [
    "integrator = scene.integrator()\n",
    "logger = Thread.thread().logger()\n",
    "\n",
    "start_time = time.time()\n",
    "logger.set_log_level(LogLevel.Warn)\n",
    "iterations = config['max_iterations']\n",
    "loss_values = []\n",
    "for it in range(iterations):\n",
    "    t0 = time.time()\n",
    "\n",
    "    apply_displacement()\n",
    "\n",
    "    # Perform a differentiable rendering of the scene\n",
    "    image = integrator.render(scene, seed=it, spp=config['spp'])\n",
    "    image = image.array  # From TensorXf to Float\n",
    "\n",
    "    if (it % 5 == 0) or (it == iterations - 1):\n",
    "        write_bitmap(join(output_dir, 'out_{:03d}.exr'.format(it)),\n",
    "                     image, crop_size)\n",
    "\n",
    "    # -- Loss function\n",
    "    current_scale = ek.hsum(ek.detach(image)) / ek.width(image)\n",
    "    # Scale-independent L2\n",
    "    diff = (image / current_scale) - (image_ref / ref_scale)\n",
    "    # # Scale-independent relative L2\n",
    "    # diff = ((image / current_scale) - (image_ref / ref_scale)) / (0.01 + image_ref / ref_scale)\n",
    "    loss = ek.hmean_async(ek.sqr(diff))\n",
    "\n",
    "    # Back-propagate errors to input parameters and take an optimizer step\n",
    "    ek.backward(loss)\n",
    "    opt.step()\n",
    "    # Carry over the update to our \"latent variable\" (the heightmap values)\n",
    "    opt.update()\n",
    "    \n",
    "    # In order to improve kernel reuse, ensure that the state of \n",
    "    # the RNG is updated in this loop iteration rather than at the\n",
    "    # start of the next one.\n",
    "    sensor.sampler().schedule_state()\n",
    "\n",
    "    elapsed_ms = 1000. * (time.time() - t0)\n",
    "    current_loss = loss[0]\n",
    "    loss_values.append(current_loss)\n",
    "    logger.log_progress(\n",
    "        it / (iterations-1), \n",
    "        f'Iteration {it:03d}: loss={current_loss:g} (took {elapsed_ms:.0f}ms)',\n",
    "        'Caustic Optimization', '')\n",
    "\n",
    "\n",
    "end_time = time.time()\n",
    "print(((end_time - start_time) * 1000) / iterations, ' ms per iteration on average')\n",
    "logger.set_log_level(LogLevel.Info)"
   ]
  },
  {
   "cell_type": "markdown",
   "metadata": {},
   "source": [
    "Once the optimization has completed, we save the final heightmap and the corresponding lens with displacement applied."
   ]
  },
  {
   "cell_type": "code",
   "execution_count": null,
   "metadata": {},
   "outputs": [],
   "source": [
    "fname = join(output_dir, 'heightmap_final.exr')\n",
    "write_bitmap(fname, params['data'], config['heightmap_resolution'])\n",
    "print('[+] Saved final heightmap state to:', fname)\n",
    "\n",
    "fname = join(output_dir, 'lens_displaced.ply')\n",
    "apply_displacement()\n",
    "lens_mesh = [m for m in scene.shapes() if m.id() == 'lens'][0]\n",
    "lens_mesh.write_ply(fname)\n",
    "print('[+] Saved displaced lens to:', fname)"
   ]
  },
  {
   "cell_type": "markdown",
   "metadata": {},
   "source": [
    "## Step 7 - visualize results"
   ]
  },
  {
   "cell_type": "markdown",
   "metadata": {},
   "source": [
    "Plot the evolution of the loss and show the final result next to the reference."
   ]
  },
  {
   "cell_type": "code",
   "execution_count": null,
   "metadata": {},
   "outputs": [],
   "source": [
    "import matplotlib.pyplot as plt\n",
    "from mitsuba.python.util import convert_to_bitmap\n",
    "\n",
    "def show_image(ax, img, title):\n",
    "    ax.imshow(convert_to_bitmap(img, crop_size))\n",
    "    ax.axis('off')\n",
    "    ax.set_title(title)\n",
    "def show_heightmap(fig, ax, values, title):\n",
    "    values = params['data'].numpy().reshape(crop_size)\n",
    "    im = ax.imshow(values)\n",
    "    fig.colorbar(im, ax=ax)\n",
    "    ax.axis('off')\n",
    "    ax.set_title(title)\n",
    "    \n",
    "\n",
    "fig, ax = plt.subplots(2, 2, figsize=(11, 10))\n",
    "ax = ax.ravel()\n",
    "ax[0].plot(loss_values)\n",
    "ax[0].set_xlabel('Iteration'); ax[0].set_ylabel('Loss value'); ax[0].set_title('Convergence plot')\n",
    "\n",
    "show_heightmap(fig, ax[1], params['data'], 'Final heightmap')\n",
    "show_image(ax[2], image_ref, 'Reference')\n",
    "show_image(ax[3], image, 'Final state')\n",
    "plt.show()"
   ]
  },
  {
   "cell_type": "markdown",
   "metadata": {},
   "source": [
    "Congratulations! Feel free to define your own target images at the top of the notebook and run this tutorial again.\n",
    "\n",
    "If you would like to improve the quality of the results, you could try the following:\n",
    "- Letting the optimization run for more iterations\n",
    "- Tweaking the learning rate and sample count\n",
    "- Progressively increasing the resolution of the heightmap through optimization, e.g. starting from a 16x16 heightmap and doubling the resolution every N iterations."
   ]
  }
 ],
 "metadata": {
  "interpreter": {
   "hash": "31f2aee4e71d21fbe5cf8b01ff0e069b9275f58929596ceb00d14d90e3e16cd6"
  },
  "kernelspec": {
   "display_name": "Python 3",
   "language": "python",
   "name": "python3"
  },
  "language_info": {
   "codemirror_mode": {
    "name": "ipython",
    "version": 3
   },
   "file_extension": ".py",
   "mimetype": "text/x-python",
   "name": "python",
   "nbconvert_exporter": "python",
   "pygments_lexer": "ipython3",
   "version": "3.8.10"
  }
 },
 "nbformat": 4,
 "nbformat_minor": 2
}
